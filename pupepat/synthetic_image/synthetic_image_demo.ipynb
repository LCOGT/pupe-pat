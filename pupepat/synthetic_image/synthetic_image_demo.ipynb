{
 "cells": [
  {
   "cell_type": "markdown",
   "metadata": {},
   "source": [
    "# Pupil Synth Demo\n",
    "This is the notebook that demonstrates how to generate synthetic pupil plate data. The other notebook in the repo is more experimental and may be filled with junk. This notebook should be up-to-date."
   ]
  },
  {
   "cell_type": "code",
   "execution_count": null,
   "metadata": {},
   "outputs": [],
   "source": [
    "import numpy as np\n",
    "from numpy.lib import pad\n",
    "import random\n",
    "import matplotlib.pyplot as plt\n",
    "from matplotlib import rcParams\n",
    "\n",
    "plt.gca().set_aspect('equal')\n",
    "rcParams['figure.figsize'] = [10., 8.]\n",
    "\n",
    "from pupepat.synthetic_image.source import CircularPupil, EllipticalPupil, FlatSource\n",
    "from pupil_plate_image import PupilPlateImage"
   ]
  },
  {
   "cell_type": "code",
   "execution_count": null,
   "metadata": {},
   "outputs": [],
   "source": [
    "inner_radius, outer_radius, counts = 100, 200, 600\n",
    "cp = CircularPupil(inner_radius, outer_radius, counts)"
   ]
  },
  {
   "cell_type": "code",
   "execution_count": null,
   "metadata": {},
   "outputs": [],
   "source": [
    "# show the decal\n",
    "m, s = np.mean(cp.decal), np.std(cp.decal)\n",
    "plt.imshow(cp.decal, interpolation='nearest', cmap='gray',\n",
    "           vmin=m-s, vmax=m+s, origin='lower')\n",
    "plt.colorbar();"
   ]
  },
  {
   "cell_type": "code",
   "execution_count": null,
   "metadata": {},
   "outputs": [],
   "source": [
    "# make pupil plate image with default noise and add the Circular Pupil\n",
    "plate_image = PupilPlateImage()\n",
    "cx = random.randint(400, 3696)\n",
    "cy = random.randint(400, 3696)\n",
    "plate_image.add_source(cp, cx, cy)"
   ]
  },
  {
   "cell_type": "code",
   "execution_count": null,
   "metadata": {},
   "outputs": [],
   "source": [
    "# you must call render() if you want to generate an image\n",
    "image = plate_image.render()\n",
    "m, s = np.mean(image), np.std(image)\n",
    "plt.imshow(image, interpolation='nearest', cmap='gray',\n",
    "           vmin=m-s, vmax=m+s, origin='lower')\n",
    "plt.colorbar();"
   ]
  },
  {
   "cell_type": "code",
   "execution_count": null,
   "metadata": {},
   "outputs": [],
   "source": [
    "side_length = 64\n",
    "shape = (side_length, side_length)\n",
    "pp3 = PupilPlateImage(shape)\n",
    "\n",
    "\n",
    "# add a PointSource\n",
    "radius = 16\n",
    "counts = 1.618*side_length\n",
    "ps = FlatSource(radius, counts)\n",
    "\n",
    "psx = 40\n",
    "psy = 40\n",
    "pp3.add_source(ps, psx, psy)\n",
    "\n",
    "# add a CircularPupil\n",
    "inner_radius = 3\n",
    "outer_radius = 16\n",
    "cp1 = CircularPupil(inner_radius, outer_radius, counts,\n",
    "                  center_vector=(1,1))\n",
    "\n",
    "cpx = 32\n",
    "cpy = 24\n",
    "pp3.add_source(cp1, cpx, cpy)"
   ]
  },
  {
   "cell_type": "code",
   "execution_count": null,
   "metadata": {},
   "outputs": [],
   "source": [
    "image = pp3.render()\n",
    "m, s = np.mean(image), np.std(image)\n",
    "plt.imshow(image, interpolation='nearest', cmap='gray',\n",
    "           vmin=m-s, vmax=m+s,\n",
    "           origin='lower')\n",
    "plt.colorbar();"
   ]
  },
  {
   "cell_type": "code",
   "execution_count": null,
   "metadata": {},
   "outputs": [],
   "source": [
    "from pupepat.synthetic_image.source import EllipticalPupil\n",
    "import numpy as np\n",
    "import matplotlib.pyplot as plt\n",
    "\n",
    "outer_a = 200\n",
    "outer_b = 180\n",
    "outer_phi = np.pi/3.\n",
    "\n",
    "inner_a = 100\n",
    "inner_b = 90\n",
    "inner_phi = np.pi/3.\n",
    "counts = 100\n",
    "center_vector = (21, 34)\n",
    "\n",
    "ep0 = EllipticalPupil(inner_a, inner_b, 0., outer_a, outer_b, 0., counts)\n",
    "\n",
    "# add rotation\n",
    "ep1 = EllipticalPupil(inner_a, inner_b, inner_phi, outer_a, outer_b, outer_phi,\n",
    "                      counts)\n",
    "# add center_vector\n",
    "ep2 = EllipticalPupil(inner_a, inner_b, inner_phi, outer_a, outer_b, outer_phi,\n",
    "                      counts, center_vector)"
   ]
  },
  {
   "cell_type": "code",
   "execution_count": null,
   "metadata": {},
   "outputs": [],
   "source": [
    "#data = ep1.d\n",
    "#m, s = np.mean(data), np.std(data)\n",
    "#plt.imshow(data, interpolation='nearest', cmap='gray',\n",
    "#           vmin=m-s, vmax=m+s, origin='lower')\n",
    "#plt.colorbar();"
   ]
  },
  {
   "cell_type": "code",
   "execution_count": null,
   "metadata": {},
   "outputs": [],
   "source": [
    "# show the decal\n",
    "m, s = np.mean(ep0.decal), np.std(ep0.decal)\n",
    "plt.imshow(ep0.decal, interpolation='nearest', cmap='gray',\n",
    "           vmin=m-s, vmax=m+s,\n",
    "           origin='lower')\n",
    "plt.colorbar();"
   ]
  },
  {
   "cell_type": "code",
   "execution_count": null,
   "metadata": {},
   "outputs": [],
   "source": [
    "# show the decal\n",
    "m, s = np.mean(ep1.decal), np.std(ep1.decal)\n",
    "plt.imshow(ep1.decal, interpolation='nearest', cmap='gray',\n",
    "           vmin=m-s, vmax=m+s,\n",
    "           origin='lower')\n",
    "plt.colorbar();"
   ]
  },
  {
   "cell_type": "code",
   "execution_count": null,
   "metadata": {},
   "outputs": [],
   "source": [
    "m, s = np.mean(ep2.decal), np.std(ep2.decal)\n",
    "plt.imshow(ep2.decal, interpolation='nearest', cmap='gray',\n",
    "           vmin=m-s, vmax=m+s, origin='lower')\n",
    "plt.colorbar();"
   ]
  },
  {
   "cell_type": "markdown",
   "metadata": {},
   "source": [
    "# Add the EllipticPupils to the plate image"
   ]
  },
  {
   "cell_type": "code",
   "execution_count": null,
   "metadata": {},
   "outputs": [],
   "source": [
    "for s in [cp, cp1, ps, ep0, ep1, ep2]:\n",
    "    cx = random.randint(400, 3696)\n",
    "    cy = random.randint(400, 3696)\n",
    "    plate_image.add_source(s, cx, cy)\n",
    "\n",
    "image = plate_image.render()\n",
    "m, s = np.mean(image), np.std(image)\n",
    "plt.imshow(image, interpolation='nearest', cmap='gray',\n",
    "           vmin=m-s, vmax=m+s, origin='lower')\n",
    "plt.colorbar();\n"
   ]
  },
  {
   "cell_type": "markdown",
   "metadata": {},
   "source": [
    "# Inspect Cutout generation"
   ]
  },
  {
   "cell_type": "code",
   "execution_count": null,
   "metadata": {},
   "outputs": [],
   "source": [
    "cutout = plate_image.cutout_for_source(ep1)\n",
    "\n",
    "m, s = np.mean(cutout), np.std(cutout)\n",
    "plt.imshow(cutout, interpolation='nearest', cmap='gray',\n",
    "           vmin=m-s, vmax=m+s, origin='lower')\n",
    "plt.colorbar();"
   ]
  }
 ],
 "metadata": {
  "kernelspec": {
   "display_name": "Python 3",
   "language": "python",
   "name": "python3"
  },
  "language_info": {
   "codemirror_mode": {
    "name": "ipython",
    "version": 3
   },
   "file_extension": ".py",
   "mimetype": "text/x-python",
   "name": "python",
   "nbconvert_exporter": "python",
   "pygments_lexer": "ipython3",
   "version": "3.7.0"
  }
 },
 "nbformat": 4,
 "nbformat_minor": 2
}
